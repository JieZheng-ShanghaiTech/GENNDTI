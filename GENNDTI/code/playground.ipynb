{
 "cells": [
  {
   "cell_type": "code",
   "execution_count": 3,
   "metadata": {
    "collapsed": false,
    "pycharm": {
     "name": "#%%\n"
    }
   },
   "outputs": [],
   "source": [
    "# summary result\n",
    "\n",
    "import pandas as pd\n",
    "import os\n",
    "from statistics import mean,stdev\n",
    "files = os.listdir('./train_emp_attr_davis2')\n",
    "total = {}\n",
    "def stat_res(data):\n",
    "    m = format(mean(data),'.4f')\n",
    "    dev = format(stdev(data),'.4f')\n",
    "    return f'{m}({dev})'\n",
    "\n",
    "for i in range(0,len(files),5):\n",
    "    this_result = []\n",
    "    aggr = dict()\n",
    "    aggr['test_auc'] = []\n",
    "    aggr['test_logloss'] = []\n",
    "    aggr['test_aupr']=[]\n",
    "    aggr['test_recall'] = []\n",
    "    name = files[i]\n",
    "    for j in range(5):\n",
    "        with open('./train_emp_attr_davis2/'+files[i+j]) as f:\n",
    "            a = f.readlines()\n",
    "            res = []\n",
    "            for epoch in a:\n",
    "                if epoch!='\\n':\n",
    "                    each = epoch.split(',')\n",
    "                    each[-1] = each[-1].replace('\\n','')\n",
    "                    res.append(each)\n",
    "            if res:\n",
    "                if res[-1][0].split(':')[0]=='epoch':\n",
    "                    this_result.append(res[  int(res[-1][0].split(':')[1]) ])\n",
    "                else:\n",
    "                    this_result.append(res[-1])\n",
    "    for ind in this_result:\n",
    "        try:\n",
    "            aggr['test_auc'].append(float(ind[2].split(':')[1].split('/')[1]  ))\n",
    "        except:\n",
    "            print(ind)\n",
    "            print(this_result)\n",
    "            print(i)\n",
    "        aggr['test_logloss'].append(float(ind[3].split(':')[1].split('/')[1]  ))\n",
    "        aggr['test_aupr'].append(float(ind[6].split(':')[1].split('/')[1]  ))\n",
    "        aggr['test_recall'].append(float(ind[10].split(':')[1].split('/')[1]  ))\n",
    "    total[name] = aggr\n",
    "for key in total.keys():\n",
    "    total[key]['test_auc'] = stat_res(total[key]['test_auc'])\n",
    "    total[key]['test_logloss'] = stat_res(total[key]['test_logloss'])\n",
    "    total[key]['test_aupr'] = stat_res(total[key]['test_aupr'])\n",
    "    total[key]['test_recall'] = stat_res(total[key]['test_recall'])\n",
    "with open('summary.txt','w') as f:\n",
    "    for key in total.keys():\n",
    "        f.write(key)\n",
    "        f.write('\\n')\n",
    "        f.write(str(total[key]))\n",
    "        f.write('\\n\\n')"
   ]
  },
  {
   "cell_type": "code",
   "execution_count": 4,
   "metadata": {
    "collapsed": false,
    "pycharm": {
     "name": "#%%\n"
    }
   },
   "outputs": [],
   "source": [
    "# show similarity\n",
    "\n",
    "import torch\n",
    "from sklearn.metrics.pairwise import cosine_similarity\n",
    "from matplotlib import pyplot as plt\n",
    "import seaborn as sns\n",
    "\n",
    "n_davis = 68 + 379\n",
    "n_kiba = 1997+228\n",
    "model = torch.load('./model_final_KIBA/corss 0 on split0/model_checkpoint.pth')\n",
    "model['feature_embedding.weight'].size()\n",
    "\n",
    "plt.figure(figsize=(12,10), dpi= 80)\n",
    "feature_set = model['feature_embedding.weight'][n_kiba:]\n",
    "fdrug_set , ftarget_set = feature_set[125:174].cpu(),feature_set[174:-2].cpu()\n",
    "matrix = cosine_similarity(fdrug_set,ftarget_set)\n",
    "sns.heatmap(matrix, xticklabels = False, yticklabels = False, cmap='coolwarm', center=0, annot=False).set(xlabel = \"Target Bridge Node\", ylabel = \"Drug Bridge Node\")\n",
    "\n",
    "plt.title('Bridge Node Similarity on KIBA', fontsize=22)\n",
    "plt.xticks(fontsize=12)\n",
    "plt.yticks(fontsize=12)\n",
    "plt.savefig('./simi.png')\n",
    "plt.show()"
   ]
  },
  {
   "cell_type": "code",
   "execution_count": null,
   "metadata": {
    "collapsed": false,
    "pycharm": {
     "name": "#%%\n"
    }
   },
   "outputs": [],
   "source": []
  }
 ],
 "metadata": {
  "kernelspec": {
   "display_name": "dti",
   "language": "python",
   "name": "dti"
  },
  "language_info": {
   "codemirror_mode": {
    "name": "ipython",
    "version": 3
   },
   "file_extension": ".py",
   "mimetype": "text/x-python",
   "name": "python",
   "nbconvert_exporter": "python",
   "pygments_lexer": "ipython3",
   "version": "3.7.11"
  },
  "vscode": {
   "interpreter": {
    "hash": "5ee1c94e3317d40d62409f71a95ad2bafc57f0ba30071fc63ddf23af8d7bd96f"
   }
  }
 },
 "nbformat": 4,
 "nbformat_minor": 0
}
